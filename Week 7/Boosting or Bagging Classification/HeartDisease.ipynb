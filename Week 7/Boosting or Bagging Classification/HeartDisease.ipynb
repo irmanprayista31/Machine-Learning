{
  "nbformat": 4,
  "nbformat_minor": 0,
  "metadata": {
    "colab": {
      "provenance": []
    },
    "kernelspec": {
      "name": "python3",
      "display_name": "Python 3"
    },
    "language_info": {
      "name": "python"
    }
  },
  "cells": [
    {
      "cell_type": "markdown",
      "source": [
        "##Import Library dan Load Data"
      ],
      "metadata": {
        "id": "Cj-IhUtjpVVg"
      }
    },
    {
      "cell_type": "code",
      "source": [
        "!pip install xgboost\n",
        "\n",
        "import pandas as pd\n",
        "import numpy as np\n",
        "from sklearn.model_selection import train_test_split\n",
        "from sklearn.ensemble import RandomForestClassifier\n",
        "from xgboost import XGBClassifier\n",
        "from sklearn.metrics import accuracy_score, precision_score, recall_score, f1_score, roc_auc_score, roc_curve\n",
        "import matplotlib.pyplot as plt\n",
        "import seaborn as sns\n",
        "\n",
        "url = \"https://raw.githubusercontent.com/farrelrassya/teachingMLDL/main/01.%20Machine%20Learning/01.%20Week%201/Dataset/HeartDisease.csv\"\n",
        "df = pd.read_csv(url)"
      ],
      "metadata": {
        "colab": {
          "base_uri": "https://localhost:8080/"
        },
        "id": "jpLLzdlWj7pg",
        "outputId": "508b3e3d-7463-4723-e6d9-3fd1b39f87d4"
      },
      "execution_count": null,
      "outputs": [
        {
          "output_type": "stream",
          "name": "stdout",
          "text": [
            "Requirement already satisfied: xgboost in /usr/local/lib/python3.11/dist-packages (2.1.4)\n",
            "Requirement already satisfied: numpy in /usr/local/lib/python3.11/dist-packages (from xgboost) (2.0.2)\n",
            "Requirement already satisfied: nvidia-nccl-cu12 in /usr/local/lib/python3.11/dist-packages (from xgboost) (2.21.5)\n",
            "Requirement already satisfied: scipy in /usr/local/lib/python3.11/dist-packages (from xgboost) (1.14.1)\n"
          ]
        }
      ]
    },
    {
      "cell_type": "markdown",
      "source": [
        "##Ubah Target menjadi Biner"
      ],
      "metadata": {
        "id": "1kAWW3XkpaP8"
      }
    },
    {
      "cell_type": "code",
      "source": [
        "df['target'] = df['num'].apply(lambda x: 1 if x > 0 else 0)\n",
        "df = df.drop(columns='num')"
      ],
      "metadata": {
        "id": "n97SJ6bgmhS3"
      },
      "execution_count": null,
      "outputs": []
    },
    {
      "cell_type": "markdown",
      "source": [
        "##Pisahkan Fitur dan Target"
      ],
      "metadata": {
        "id": "ggQxnTg4pfly"
      }
    },
    {
      "cell_type": "code",
      "source": [
        "X = df.drop('target', axis=1)\n",
        "y = df['target']"
      ],
      "metadata": {
        "id": "xgOhQSs2mhWz"
      },
      "execution_count": null,
      "outputs": []
    },
    {
      "cell_type": "markdown",
      "source": [
        "##Split Data"
      ],
      "metadata": {
        "id": "CQLL0n-Npi0d"
      }
    },
    {
      "cell_type": "code",
      "source": [
        "X_train, X_test, y_train, y_test = train_test_split(X, y, test_size=0.2, random_state=42)"
      ],
      "metadata": {
        "id": "-TZ1eIrtmhae"
      },
      "execution_count": null,
      "outputs": []
    },
    {
      "cell_type": "markdown",
      "source": [
        "##Train Random Forest"
      ],
      "metadata": {
        "id": "oiLl5A5Zpk6T"
      }
    },
    {
      "cell_type": "code",
      "source": [
        "rf = RandomForestClassifier(random_state=42)\n",
        "rf.fit(X_train, y_train)\n",
        "y_pred_rf = rf.predict(X_test)\n",
        "y_proba_rf = rf.predict_proba(X_test)[:, 1]"
      ],
      "metadata": {
        "id": "l8UoYJBKmheX"
      },
      "execution_count": null,
      "outputs": []
    },
    {
      "cell_type": "markdown",
      "source": [
        "##Train XGBoost"
      ],
      "metadata": {
        "id": "dO0V8hl7pw7g"
      }
    },
    {
      "cell_type": "code",
      "source": [
        "xgb = XGBClassifier(use_label_encoder=False, eval_metric='logloss', random_state=42)\n",
        "xgb.fit(X_train, y_train)\n",
        "y_pred_xgb = xgb.predict(X_test)\n",
        "y_proba_xgb = xgb.predict_proba(X_test)[:, 1]"
      ],
      "metadata": {
        "colab": {
          "base_uri": "https://localhost:8080/"
        },
        "id": "zvBtphDfmhi4",
        "outputId": "a8d5646b-e469-4252-9550-5bf7308b77c6"
      },
      "execution_count": null,
      "outputs": [
        {
          "output_type": "stream",
          "name": "stderr",
          "text": [
            "/usr/local/lib/python3.11/dist-packages/xgboost/core.py:158: UserWarning: [11:09:08] WARNING: /workspace/src/learner.cc:740: \n",
            "Parameters: { \"use_label_encoder\" } are not used.\n",
            "\n",
            "  warnings.warn(smsg, UserWarning)\n"
          ]
        }
      ]
    },
    {
      "cell_type": "markdown",
      "source": [
        "##Evaluasi Model"
      ],
      "metadata": {
        "id": "nIrIV7pwp2PJ"
      }
    },
    {
      "cell_type": "code",
      "source": [
        "def evaluate_model(y_test, y_pred, y_proba):\n",
        "    return {\n",
        "        'Accuracy': accuracy_score(y_test, y_pred),\n",
        "        'Precision': precision_score(y_test, y_pred),\n",
        "        'Recall': recall_score(y_test, y_pred),\n",
        "        'F1 Score': f1_score(y_test, y_pred),\n",
        "        'AUC': roc_auc_score(y_test, y_proba)\n",
        "    }\n",
        "\n",
        "rf_metrics = evaluate_model(y_test, y_pred_rf, y_proba_rf)\n",
        "xgb_metrics = evaluate_model(y_test, y_pred_xgb, y_proba_xgb)"
      ],
      "metadata": {
        "id": "clxOhh6Vmhnf"
      },
      "execution_count": null,
      "outputs": []
    },
    {
      "cell_type": "markdown",
      "source": [
        "##Membandingkan Hasil"
      ],
      "metadata": {
        "id": "Q8RA21X4p4yH"
      }
    },
    {
      "cell_type": "code",
      "source": [
        "comparison_df = pd.DataFrame([rf_metrics, xgb_metrics], index=['Random Forest', 'XGBoost'])\n",
        "print(\"\\nMetrik Evaluasi Model\")\n",
        "print(comparison_df)"
      ],
      "metadata": {
        "colab": {
          "base_uri": "https://localhost:8080/"
        },
        "id": "ouyldP0ImhsL",
        "outputId": "91ea429c-a9e3-4b35-948f-4f8ad795a4b6"
      },
      "execution_count": null,
      "outputs": [
        {
          "output_type": "stream",
          "name": "stdout",
          "text": [
            "\n",
            "Metrik Evaluasi Model\n",
            "               Accuracy  Precision  Recall  F1 Score       AUC\n",
            "Random Forest  0.885246   0.903226  0.8750  0.888889  0.935884\n",
            "XGBoost        0.836066   0.866667  0.8125  0.838710  0.918103\n"
          ]
        }
      ]
    },
    {
      "cell_type": "markdown",
      "source": [
        "##Kurva"
      ],
      "metadata": {
        "id": "a-LcH63Rp8ns"
      }
    },
    {
      "cell_type": "code",
      "source": [
        "fpr_rf, tpr_rf, _ = roc_curve(y_test, y_proba_rf)\n",
        "fpr_xgb, tpr_xgb, _ = roc_curve(y_test, y_proba_xgb)\n",
        "\n",
        "plt.figure(figsize=(8, 6))\n",
        "plt.plot(fpr_rf, tpr_rf, label='Random Forest (AUC = {:.2f})'.format(rf_metrics['AUC']))\n",
        "plt.plot(fpr_xgb, tpr_xgb, label='XGBoost (AUC = {:.2f})'.format(xgb_metrics['AUC']))\n",
        "plt.plot([0, 1], [0, 1], 'k--')\n",
        "plt.xlabel('False Positive Rate')\n",
        "plt.ylabel('True Positive Rate')\n",
        "plt.title('ROC Curve')\n",
        "plt.legend()\n",
        "plt.grid(True)\n",
        "plt.show()"
      ],
      "metadata": {
        "colab": {
          "base_uri": "https://localhost:8080/",
          "height": 527
        },
        "id": "s0D88RGKmhx9",
        "outputId": "55033dff-d518-4b3c-f461-3bd580812dfe"
      },
      "execution_count": null,
      "outputs": [
        {
          "output_type": "display_data",
          "data": {
            "text/plain": [
              "<Figure size 800x600 with 1 Axes>"
            ],
            "image/png": "[encoded data removed]"
          },
          "metadata": {}
        }
      ]
    },
    {
      "cell_type": "markdown",
      "source": [
        "#**Penjelasan Matematika**\n",
        "\n",
        "1. **Accuracy**\n",
        "   $$\n",
        "   \\text{Accuracy} = \\frac{TP + TN}{TP + TN + FP + FN}\n",
        "   $$\n",
        "   - Proporsi prediksi yang benar dibanding total data.\n",
        "\n",
        "2. **Precision**\n",
        "   $$\n",
        "   \\text{Precision} = \\frac{TP}{TP + FP}\n",
        "   $$\n",
        "   - Seberapa akurat model saat memprediksi kelas positif.\n",
        "\n",
        "3. **Recall**\n",
        "   $$\n",
        "   \\text{Recall} = \\frac{TP}{TP + FN}\n",
        "   $$\n",
        "   - Seberapa banyak kasus positif yang berhasil ditemukan.\n",
        "\n",
        "4. **F1 Score**\n",
        "   $$\n",
        "   F1 = 2 \\cdot \\frac{\\text{Precision} \\cdot \\text{Recall}}{\\text{Precision} + \\text{Recall}}\n",
        "   $$\n",
        "   - Rata-rata harmonik dari Precision dan Recall.\n",
        "\n",
        "5. **AUC - ROC**\n",
        "   - AUC: Luas di bawah kurva ROC.\n",
        "   - ROC: Grafik hubungan antara **TPR** dan **FPR**.\n",
        "   $$\n",
        "   TPR = \\frac{TP}{TP + FN}, \\quad FPR = \\frac{FP}{FP + TN}\n",
        "   $$\n"
      ],
      "metadata": {
        "id": "l7VtuU0er4dX"
      }
    }
  ]
}