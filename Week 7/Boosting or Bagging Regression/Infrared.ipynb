{
  "nbformat": 4,
  "nbformat_minor": 0,
  "metadata": {
    "colab": {
      "provenance": []
    },
    "kernelspec": {
      "name": "python3",
      "display_name": "Python 3"
    },
    "language_info": {
      "name": "python"
    }
  },
  "cells": [
    {
      "cell_type": "markdown",
      "source": [
        "##Import dan Load Dataset"
      ],
      "metadata": {
        "id": "XLUHU6GaG9Mc"
      }
    },
    {
      "cell_type": "code",
      "source": [
        "import pandas as pd\n",
        "import numpy as np\n",
        "from sklearn.model_selection import train_test_split\n",
        "from sklearn.ensemble import RandomForestRegressor, GradientBoostingRegressor\n",
        "from sklearn.metrics import mean_squared_error, r2_score\n",
        "from sklearn.preprocessing import LabelEncoder\n",
        "\n",
        "url = \"https://raw.githubusercontent.com/farrelrassya/teachingMLDL/main/02.%20Deep%20Learning/Dataset/Infrared.csv\"\n",
        "df = pd.read_csv(url)"
      ],
      "metadata": {
        "id": "T6iod0YpEJh1"
      },
      "execution_count": 27,
      "outputs": []
    },
    {
      "cell_type": "markdown",
      "source": [
        "##Encode Data Kategorikal jika ada"
      ],
      "metadata": {
        "id": "2DzHiOFTG__6"
      }
    },
    {
      "cell_type": "code",
      "source": [
        "for col in df.select_dtypes(include=['object']).columns:\n",
        "    df[col] = LabelEncoder().fit_transform(df[col])"
      ],
      "metadata": {
        "id": "-WlmAqfMGE1k"
      },
      "execution_count": 28,
      "outputs": []
    },
    {
      "cell_type": "markdown",
      "source": [
        "##Menangani Missing Values"
      ],
      "metadata": {
        "id": "6DeKew6LHMPG"
      }
    },
    {
      "cell_type": "code",
      "source": [
        "df.fillna(df.mean(numeric_only=True), inplace=True)"
      ],
      "metadata": {
        "id": "YMwyJclAGE8u"
      },
      "execution_count": 29,
      "outputs": []
    },
    {
      "cell_type": "markdown",
      "source": [
        "##Pisahkan Fitur dan Target"
      ],
      "metadata": {
        "id": "c_Qqq-ByHfJK"
      }
    },
    {
      "cell_type": "code",
      "source": [
        "target_column = df.columns[-1]\n",
        "X = df.drop(target_column, axis=1)\n",
        "y = df[target_column]"
      ],
      "metadata": {
        "id": "X2XZjkTbGFEJ"
      },
      "execution_count": 30,
      "outputs": []
    },
    {
      "cell_type": "markdown",
      "source": [
        "##Split Data Latih dan Uji"
      ],
      "metadata": {
        "id": "n5mzZXe7HkSG"
      }
    },
    {
      "cell_type": "code",
      "source": [
        "X_train, X_test, y_train, y_test = train_test_split(X, y, test_size=0.2, random_state=42)"
      ],
      "metadata": {
        "id": "K3TkjPDXGFJ9"
      },
      "execution_count": 31,
      "outputs": []
    },
    {
      "cell_type": "markdown",
      "source": [
        "##Model Bagging Random Forest"
      ],
      "metadata": {
        "id": "66jfbiVjHotC"
      }
    },
    {
      "cell_type": "code",
      "source": [
        "bagging_model = RandomForestRegressor(n_estimators=100, random_state=42)\n",
        "bagging_model.fit(X_train, y_train)\n",
        "y_pred_bag = bagging_model.predict(X_test)"
      ],
      "metadata": {
        "id": "I26MZliwGFP9"
      },
      "execution_count": 32,
      "outputs": []
    },
    {
      "cell_type": "markdown",
      "source": [
        "##Model Boosting Gradient Boosting"
      ],
      "metadata": {
        "id": "U2LO0KTOHsaW"
      }
    },
    {
      "cell_type": "code",
      "source": [
        "boosting_model = GradientBoostingRegressor(n_estimators=100, learning_rate=0.1, random_state=42)\n",
        "boosting_model.fit(X_train, y_train)\n",
        "y_pred_boost = boosting_model.predict(X_test)"
      ],
      "metadata": {
        "id": "NIV9XnSAGFVq"
      },
      "execution_count": 33,
      "outputs": []
    },
    {
      "cell_type": "markdown",
      "source": [
        "##Evaluasi Model"
      ],
      "metadata": {
        "id": "LPBF7V9SHxKI"
      }
    },
    {
      "cell_type": "code",
      "source": [
        "def evaluate_model(y_true, y_pred, model_name):\n",
        "    mse = mean_squared_error(y_true, y_pred)\n",
        "    rmse = np.sqrt(mse)\n",
        "    r2 = r2_score(y_true, y_pred)\n",
        "\n",
        "    print(f\"\\nEvaluasi Model {model_name}\")\n",
        "    print(f\"MSE  : {mse:.4f}\")\n",
        "    print(f\"RMSE : {rmse:.4f}\")\n",
        "    print(f\"R²   : {r2:.4f}\")\n",
        "\n",
        "evaluate_model(y_test, y_pred_bag, \"Random Forest (Bagging)\")\n",
        "evaluate_model(y_test, y_pred_boost, \"Gradient Boosting (Boosting)\")"
      ],
      "metadata": {
        "colab": {
          "base_uri": "https://localhost:8080/"
        },
        "id": "iPLQz3bvGFe7",
        "outputId": "f27d238d-ba2f-4b20-b855-cf2f12af7a78"
      },
      "execution_count": 34,
      "outputs": [
        {
          "output_type": "stream",
          "name": "stdout",
          "text": [
            "\n",
            "Evaluasi Model Random Forest (Bagging)\n",
            "MSE  : 0.0570\n",
            "RMSE : 0.2388\n",
            "R²   : 0.7291\n",
            "\n",
            "Evaluasi Model Gradient Boosting (Boosting)\n",
            "MSE  : 0.0494\n",
            "RMSE : 0.2222\n",
            "R²   : 0.7654\n"
          ]
        }
      ]
    },
    {
      "cell_type": "markdown",
      "source": [
        "#**Penjelasan Matematika**\n",
        "\n",
        "# 1. MSE (Mean Squared Error)\n",
        "\n",
        "$$MSE = \\frac{1}{n} \\sum_{i=1}^{n} (y_i - \\hat{y}_i)^2$$\n",
        "\n",
        "Mengukur seberapa jauh rata-rata hasil prediksi dari nilai asli. Lebih kecil = lebih baik.\n",
        "\n",
        "# 2. RMSE (Root Mean Squared Error)\n",
        "\n",
        "$$RMSE = \\sqrt{MSE}$$\n",
        "\n",
        "Akar dari MSE, unit-nya sama dengan target asli (misalnya derajat suhu).\n",
        "\n",
        "# 3. R² (R-Squared)\n",
        "\n",
        "$$R^2 = 1 - \\frac{\\sum (y_i - \\hat{y}_i)^2}{\\sum (y_i - \\bar{y})^2}$$\n",
        "\n",
        "Menunjukkan seberapa baik model menjelaskan variasi data. Semakin dekat ke 1, semakin baik.\n"
      ],
      "metadata": {
        "id": "3VUMN-20GxlV"
      }
    }
  ]
}