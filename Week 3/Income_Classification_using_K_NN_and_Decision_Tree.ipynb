{
  "nbformat": 4,
  "nbformat_minor": 0,
  "metadata": {
    "colab": {
      "provenance": []
    },
    "kernelspec": {
      "name": "python3",
      "display_name": "Python 3"
    },
    "language_info": {
      "name": "python"
    }
  },
  "cells": [
    {
      "cell_type": "markdown",
      "source": [
        "##Import Library dan Load Dataset"
      ],
      "metadata": {
        "id": "BRH5ji_5TTDg"
      }
    },
    {
      "cell_type": "code",
      "source": [
        "import pandas as pd\n",
        "import numpy as np\n",
        "from sklearn.model_selection import train_test_split\n",
        "from sklearn.preprocessing import LabelEncoder, StandardScaler\n",
        "from sklearn.neighbors import KNeighborsClassifier\n",
        "from sklearn.tree import DecisionTreeClassifier\n",
        "from sklearn.metrics import accuracy_score, precision_score, recall_score, f1_score, roc_auc_score, roc_curve\n",
        "import matplotlib.pyplot as plt\n",
        "import seaborn as sns\n",
        "\n",
        "url = 'https://raw.githubusercontent.com/farrelrassya/teachingMLDL/main/02.%20Deep%20Learning/Dataset/income.csv'\n",
        "df = pd.read_csv(url)\n",
        "\n",
        "print(\"Kolom tersedia:\", df.columns.tolist())"
      ],
      "metadata": {
        "colab": {
          "base_uri": "https://localhost:8080/"
        },
        "id": "CeIIomEnTsO9",
        "outputId": "c3d769b4-42d6-4b10-d78f-7668c69fef78"
      },
      "execution_count": 24,
      "outputs": [
        {
          "output_type": "stream",
          "name": "stdout",
          "text": [
            "Kolom tersedia: ['age', 'workclass', 'fnlwgt', 'education', 'education-num', 'marital-status', 'occupation', 'relationship', 'race', 'sex', 'capital-gain', 'capital-loss', 'hours-per-week', 'native-country', 'income']\n"
          ]
        }
      ]
    },
    {
      "cell_type": "markdown",
      "source": [
        "##Pengecekkan dan Pembersihan Data"
      ],
      "metadata": {
        "id": "GQJa7e6PUGs8"
      }
    },
    {
      "cell_type": "code",
      "source": [
        "df.replace(' ?', np.nan, inplace=True)\n",
        "df.dropna(inplace=True)\n",
        "df.reset_index(drop=True, inplace=True)"
      ],
      "metadata": {
        "id": "CAvyd412ULTP"
      },
      "execution_count": 25,
      "outputs": []
    },
    {
      "cell_type": "markdown",
      "source": [
        "##Label Encoding untuk Fitur Kategorikal"
      ],
      "metadata": {
        "id": "_sMHBFyIUR61"
      }
    },
    {
      "cell_type": "code",
      "source": [
        "le = LabelEncoder()\n",
        "for col in df.select_dtypes(include=['object']).columns:\n",
        "    df[col] = le.fit_transform(df[col])"
      ],
      "metadata": {
        "id": "30K2HwdvUYgC"
      },
      "execution_count": 26,
      "outputs": []
    },
    {
      "cell_type": "markdown",
      "source": [
        "##Pisahkan Fitur dan Target"
      ],
      "metadata": {
        "id": "k8pahjWQUkbj"
      }
    },
    {
      "cell_type": "code",
      "source": [
        "X = df.drop('income', axis=1)\n",
        "y = df['income']"
      ],
      "metadata": {
        "id": "juO2g3hZUp_n"
      },
      "execution_count": 27,
      "outputs": []
    },
    {
      "cell_type": "markdown",
      "source": [
        "##Split Data (Training dan Testing)"
      ],
      "metadata": {
        "id": "QddU9IsvUsdm"
      }
    },
    {
      "cell_type": "code",
      "source": [
        "X_train, X_test, y_train, y_test = train_test_split(X, y, test_size=0.2, random_state=42)"
      ],
      "metadata": {
        "id": "RCEUaUTBUxH9"
      },
      "execution_count": 28,
      "outputs": []
    },
    {
      "cell_type": "markdown",
      "source": [
        "##Normalisasi Fitur"
      ],
      "metadata": {
        "id": "juVqAvQrU0gG"
      }
    },
    {
      "cell_type": "code",
      "source": [
        "scaler = StandardScaler()\n",
        "X_train = scaler.fit_transform(X_train)\n",
        "X_test = scaler.transform(X_test)"
      ],
      "metadata": {
        "id": "RQMyZg2dU22H"
      },
      "execution_count": 29,
      "outputs": []
    },
    {
      "cell_type": "markdown",
      "source": [
        "##Membuat dan Melatih Model"
      ],
      "metadata": {
        "id": "psAzqz_zU5Sy"
      }
    },
    {
      "cell_type": "code",
      "source": [
        "models = {\n",
        "    'K-NN': KNeighborsClassifier(),\n",
        "    'Decision Tree': DecisionTreeClassifier(random_state=42)\n",
        "}\n",
        "\n",
        "for name, model in models.items():\n",
        "    model.fit(X_train, y_train)\n",
        "    y_pred = model.predict(X_test)\n",
        "\n",
        "    print(f\"\\n{name}\")\n",
        "    print(f\"Akurasi : {accuracy_score(y_test, y_pred):.2f}\")\n",
        "    print(f\"Presisi : {precision_score(y_test, y_pred, average='macro'):.2f}\")\n",
        "    print(f\"Recall  : {recall_score(y_test, y_pred, average='macro'):.2f}\")\n",
        "    print(f\"F1 Score: {f1_score(y_test, y_pred, average='macro'):.2f}\")"
      ],
      "metadata": {
        "colab": {
          "base_uri": "https://localhost:8080/"
        },
        "id": "26YiZy8aU688",
        "outputId": "88a0204d-c90a-40e7-9f04-64e227e2a2dc"
      },
      "execution_count": 32,
      "outputs": [
        {
          "output_type": "stream",
          "name": "stdout",
          "text": [
            "\n",
            "K-NN\n",
            "Akurasi : 0.51\n",
            "Presisi : 0.39\n",
            "Recall  : 0.36\n",
            "F1 Score: 0.36\n",
            "\n",
            "Decision Tree\n",
            "Akurasi : 0.46\n",
            "Presisi : 0.38\n",
            "Recall  : 0.38\n",
            "F1 Score: 0.38\n"
          ]
        }
      ]
    },
    {
      "cell_type": "markdown",
      "source": [
        "##Penjelasan Matematika\n",
        "\n",
        "### 1. Akurasi (Accuracy)\n",
        "$$\n",
        "Accuracy = \\\\frac{TP + TN}{TP + TN + FP + FN}\n",
        "$$\n",
        "- **TP** = True Positive, **TN** = True Negative  \n",
        "- **FP** = False Positive, **FN** = False Negative  \n",
        "- Mengukur seberapa banyak prediksi benar dibanding total data.\n",
        "\n",
        "### 2. Presisi (Precision)\n",
        "$$\n",
        "Precision = \\\\frac{TP}{TP + FP}\n",
        "$$\n",
        "- Dari semua yang diprediksi positif, berapa banyak yang benar-benar positif.\n",
        "\n",
        "### 3. Recall (Sensitivity)\n",
        "$$\n",
        "Recall = \\\\frac{TP}{TP + FN}\n",
        "$$\n",
        "- Dari semua data yang benar-benar positif, berapa banyak yang berhasil diprediksi.\n",
        "\n",
        "### 4. F1-Score\n",
        "$$\n",
        "F1 = 2 \\\\cdot \\\\frac{Precision \\\\cdot Recall}{Precision + Recall}\n",
        "$$\n",
        "- Rata-rata harmonik antara presisi dan recall. Cocok untuk data yang tidak seimbang.\n",
        "\n",
        "### 5. AUC (Area Under Curve)\n",
        "- Luas di bawah kurva ROC.\n",
        "- Nilai AUC mendekati 1 berarti model sangat baik.\n",
        "\n",
        "### 6. ROC Curve\n",
        "- Grafik antara True Positive Rate dan False Positive Rate.\n",
        "- Model yang bagus memiliki kurva yang naik cepat ke atas kiri grafik.\n"
      ],
      "metadata": {
        "id": "Z2EVrFvhVas3"
      }
    }
  ]
}