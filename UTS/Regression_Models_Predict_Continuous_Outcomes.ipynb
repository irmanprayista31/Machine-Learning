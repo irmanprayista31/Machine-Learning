{
  "nbformat": 4,
  "nbformat_minor": 0,
  "metadata": {
    "colab": {
      "provenance": []
    },
    "kernelspec": {
      "name": "python3",
      "display_name": "Python 3"
    },
    "language_info": {
      "name": "python"
    }
  },
  "cells": [
    {
      "cell_type": "markdown",
      "source": [
        "##Pengumpulan dan Pembersihan Data"
      ],
      "metadata": {
        "id": "xAWYdA6RHX4b"
      }
    },
    {
      "cell_type": "code",
      "execution_count": null,
      "metadata": {
        "colab": {
          "base_uri": "https://localhost:8080/"
        },
        "id": "0ZkhqceGhoyU",
        "outputId": "e803667a-d6b8-47ba-f70e-0023dfcda617"
      },
      "outputs": [
        {
          "output_type": "stream",
          "name": "stdout",
          "text": [
            "Drive already mounted at /content/drive; to attempt to forcibly remount, call drive.mount(\"/content/drive\", force_remount=True).\n",
            "<class 'pandas.core.frame.DataFrame'>\n",
            "RangeIndex: 515344 entries, 0 to 515343\n",
            "Data columns (total 91 columns):\n",
            " #   Column      Non-Null Count   Dtype  \n",
            "---  ------      --------------   -----  \n",
            " 0   2001        515344 non-null  int64  \n",
            " 1   49.94357    515344 non-null  float64\n",
            " 2   21.47114    515344 non-null  float64\n",
            " 3   73.0775     515344 non-null  float64\n",
            " 4   8.74861     515344 non-null  float64\n",
            " 5   -17.40628   515344 non-null  float64\n",
            " 6   -13.09905   515344 non-null  float64\n",
            " 7   -25.01202   515344 non-null  float64\n",
            " 8   -12.23257   515344 non-null  float64\n",
            " 9   7.83089     515344 non-null  float64\n",
            " 10  -2.46783    515344 non-null  float64\n",
            " 11  3.32136     515344 non-null  float64\n",
            " 12  -2.31521    515344 non-null  float64\n",
            " 13  10.20556    515344 non-null  float64\n",
            " 14  611.10913   515344 non-null  float64\n",
            " 15  951.0896    515344 non-null  float64\n",
            " 16  698.11428   515344 non-null  float64\n",
            " 17  408.98485   515344 non-null  float64\n",
            " 18  383.70912   515344 non-null  float64\n",
            " 19  326.51512   515344 non-null  float64\n",
            " 20  238.11327   515344 non-null  float64\n",
            " 21  251.42414   515344 non-null  float64\n",
            " 22  187.17351   515344 non-null  float64\n",
            " 23  100.42652   515344 non-null  float64\n",
            " 24  179.19498   515344 non-null  float64\n",
            " 25  -8.41558    515344 non-null  float64\n",
            " 26  -317.87038  515344 non-null  float64\n",
            " 27  95.86266    515344 non-null  float64\n",
            " 28  48.10259    515344 non-null  float64\n",
            " 29  -95.66303   515344 non-null  float64\n",
            " 30  -18.06215   515344 non-null  float64\n",
            " 31  1.96984     515344 non-null  float64\n",
            " 32  34.42438    515344 non-null  float64\n",
            " 33  11.7267     515344 non-null  float64\n",
            " 34  1.3679      515344 non-null  float64\n",
            " 35  7.79444     515344 non-null  float64\n",
            " 36  -0.36994    515344 non-null  float64\n",
            " 37  -133.67852  515344 non-null  float64\n",
            " 38  -83.26165   515344 non-null  float64\n",
            " 39  -37.29765   515344 non-null  float64\n",
            " 40  73.04667    515344 non-null  float64\n",
            " 41  -37.36684   515344 non-null  float64\n",
            " 42  -3.13853    515344 non-null  float64\n",
            " 43  -24.21531   515344 non-null  float64\n",
            " 44  -13.23066   515344 non-null  float64\n",
            " 45  15.93809    515344 non-null  float64\n",
            " 46  -18.60478   515344 non-null  float64\n",
            " 47  82.15479    515344 non-null  float64\n",
            " 48  240.5798    515344 non-null  float64\n",
            " 49  -10.29407   515344 non-null  float64\n",
            " 50  31.58431    515344 non-null  float64\n",
            " 51  -25.38187   515344 non-null  float64\n",
            " 52  -3.90772    515344 non-null  float64\n",
            " 53  13.29258    515344 non-null  float64\n",
            " 54  41.5506     515344 non-null  float64\n",
            " 55  -7.26272    515344 non-null  float64\n",
            " 56  -21.00863   515344 non-null  float64\n",
            " 57  105.50848   515344 non-null  float64\n",
            " 58  64.29856    515344 non-null  float64\n",
            " 59  26.08481    515344 non-null  float64\n",
            " 60  -44.5911    515344 non-null  float64\n",
            " 61  -8.30657    515344 non-null  float64\n",
            " 62  7.93706     515344 non-null  float64\n",
            " 63  -10.7366    515344 non-null  float64\n",
            " 64  -95.44766   515344 non-null  float64\n",
            " 65  -82.03307   515344 non-null  float64\n",
            " 66  -35.59194   515344 non-null  float64\n",
            " 67  4.69525     515344 non-null  float64\n",
            " 68  70.95626    515344 non-null  float64\n",
            " 69  28.09139    515344 non-null  float64\n",
            " 70  6.02015     515344 non-null  float64\n",
            " 71  -37.13767   515344 non-null  float64\n",
            " 72  -41.1245    515344 non-null  float64\n",
            " 73  -8.40816    515344 non-null  float64\n",
            " 74  7.19877     515344 non-null  float64\n",
            " 75  -8.60176    515344 non-null  float64\n",
            " 76  -5.90857    515344 non-null  float64\n",
            " 77  -12.32437   515344 non-null  float64\n",
            " 78  14.68734    515344 non-null  float64\n",
            " 79  -54.32125   515344 non-null  float64\n",
            " 80  40.14786    515344 non-null  float64\n",
            " 81  13.0162     515344 non-null  float64\n",
            " 82  -54.40548   515344 non-null  float64\n",
            " 83  58.99367    515344 non-null  float64\n",
            " 84  15.37344    515344 non-null  float64\n",
            " 85  1.11144     515344 non-null  float64\n",
            " 86  -23.08793   515344 non-null  float64\n",
            " 87  68.40795    515344 non-null  float64\n",
            " 88  -1.82223    515344 non-null  float64\n",
            " 89  -27.46348   515344 non-null  float64\n",
            " 90  2.26327     515344 non-null  float64\n",
            "dtypes: float64(90), int64(1)\n",
            "memory usage: 357.8 MB\n"
          ]
        }
      ],
      "source": [
        "# Mengimpor library yang diperlukan\n",
        "import pandas as pd\n",
        "import numpy as np\n",
        "import matplotlib.pyplot as plt\n",
        "import seaborn as sns\n",
        "from sklearn.model_selection import train_test_split\n",
        "from sklearn.linear_model import LinearRegression\n",
        "from sklearn.preprocessing import PolynomialFeatures\n",
        "from sklearn.tree import DecisionTreeRegressor\n",
        "from sklearn.neighbors import KNeighborsRegressor\n",
        "from sklearn.ensemble import BaggingRegressor, AdaBoostRegressor, GradientBoostingRegressor\n",
        "from sklearn.svm import SVR\n",
        "from sklearn.metrics import mean_squared_error, r2_score\n",
        "from sklearn.pipeline import make_pipeline\n",
        "\n",
        "# Mount Google Drive untuk membaca dataset\n",
        "from google.colab import drive\n",
        "drive.mount('/content/drive')\n",
        "\n",
        "# Membaca dataset\n",
        "df = pd.read_csv('/content/drive/MyDrive/RegresiUTSTelkom.csv')\n",
        "\n",
        "# Melihat data teratas\n",
        "df.head()\n",
        "\n",
        "# Cek info tentang data (tipe data dan jumlah data null)\n",
        "df.info()\n",
        "\n",
        "# Menghapus nilai yang hilang (jika ada)\n",
        "df = df.dropna()"
      ]
    },
    {
      "cell_type": "markdown",
      "source": [
        "##Memisahkan Fitur dan Target"
      ],
      "metadata": {
        "id": "cwmYMMnlHh9K"
      }
    },
    {
      "cell_type": "code",
      "source": [
        "# Memisahkan fitur dan target otomatis (mengasumsikan target ada di kolom terakhir)\n",
        "X = df.iloc[:, :-1]  # Semua kolom kecuali kolom terakhir\n",
        "y = df.iloc[:, -1]   # Kolom terakhir sebagai target"
      ],
      "metadata": {
        "id": "BAHPfBKij_vc"
      },
      "execution_count": null,
      "outputs": []
    },
    {
      "cell_type": "markdown",
      "source": [
        "##Menggunakan Korelasi"
      ],
      "metadata": {
        "id": "6YNcS1OcHro0"
      }
    },
    {
      "cell_type": "code",
      "source": [
        "# Menampilkan korelasi antar fitur dan target\n",
        "correlation_matrix = df.corr()\n",
        "\n",
        "# Menampilkan korelasi fitur dengan target\n",
        "print(correlation_matrix.iloc[:, -1].sort_values(ascending=False))  # Kolom terakhir adalah target"
      ],
      "metadata": {
        "colab": {
          "base_uri": "https://localhost:8080/"
        },
        "id": "H8oQwy-xkB4V",
        "outputId": "b10e6b61-a12c-4b3f-da5f-797bff5e12f8"
      },
      "execution_count": null,
      "outputs": [
        {
          "output_type": "stream",
          "name": "stdout",
          "text": [
            "2.26327      1.000000\n",
            "68.40795     0.249920\n",
            "-1.82223     0.224785\n",
            "-10.7366     0.202330\n",
            "-27.46348    0.199018\n",
            "               ...   \n",
            "21.47114    -0.159893\n",
            "40.14786    -0.161037\n",
            "-5.90857    -0.164815\n",
            "-7.26272    -0.176241\n",
            "49.94357    -0.183505\n",
            "Name: 2.26327, Length: 91, dtype: float64\n"
          ]
        }
      ]
    },
    {
      "cell_type": "markdown",
      "source": [
        "##Feature Engineering"
      ],
      "metadata": {
        "id": "uvuoDFLKHy24"
      }
    },
    {
      "cell_type": "code",
      "source": [
        "# One-hot encoding untuk fitur kategorikal (jika ada)\n",
        "X_encoded = pd.get_dummies(X, drop_first=True)\n",
        "\n",
        "# Pembagian data menjadi training dan testing (80% training, 20% testing)\n",
        "X_train, X_test, y_train, y_test = train_test_split(X_encoded, y, test_size=0.2, random_state=42)"
      ],
      "metadata": {
        "id": "VExRaEyJkC-s"
      },
      "execution_count": null,
      "outputs": []
    },
    {
      "cell_type": "markdown",
      "source": [
        "##Model Training dan Evaluasi"
      ],
      "metadata": {
        "id": "5C9_PLMnH4Kf"
      }
    },
    {
      "cell_type": "code",
      "source": [
        "# Daftar model untuk dilatih\n",
        "models = {\n",
        "    'Linear Regression': LinearRegression(),\n",
        "    'Polynomial Regression': make_pipeline(PolynomialFeatures(degree=3), LinearRegression()),\n",
        "    'Decision Tree Regressor': DecisionTreeRegressor(),\n",
        "    'K-Nearest Neighbors': KNeighborsRegressor(),\n",
        "    'Bagging Regressor': BaggingRegressor(),\n",
        "    'AdaBoost Regressor': AdaBoostRegressor(),\n",
        "    'Gradient Boosting Regressor': GradientBoostingRegressor(),\n",
        "    'SVR': SVR()\n",
        "}\n",
        "\n",
        "# Melatih dan mengevaluasi model\n",
        "results = {}\n",
        "\n",
        "for name, model in models.items():\n",
        "    model.fit(X_train, y_train)\n",
        "    y_pred = model.predict(X_test)\n",
        "\n",
        "    # Menghitung evaluasi model\n",
        "    mse = mean_squared_error(y_test, y_pred)\n",
        "    rmse = np.sqrt(mse)\n",
        "    r2 = r2_score(y_test, y_pred)\n",
        "\n",
        "    results[name] = {'MSE': mse, 'RMSE': rmse, 'R2': r2}\n",
        "\n",
        "    # Menampilkan prediksi dan aktual\n",
        "    plt.figure(figsize=(6, 6))\n",
        "    plt.scatter(y_test, y_pred, color='blue', alpha=0.6)\n",
        "    plt.plot([y_test.min(), y_test.max()], [y_test.min(), y_test.max()], color='red', linestyle='--')\n",
        "    plt.title(f'{name} - Predicted vs Actual')\n",
        "    plt.xlabel('Actual')\n",
        "    plt.ylabel('Predicted')\n",
        "    plt.show()\n",
        "\n",
        "# Menampilkan hasil evaluasi model\n",
        "evaluation_df = pd.DataFrame(results).T\n",
        "print(evaluation_df)"
      ],
      "metadata": {
        "colab": {
          "base_uri": "https://localhost:8080/",
          "height": 564
        },
        "id": "sMTreYGWkHI6",
        "outputId": "57387642-e62c-420b-e589-2cc0340c9d41"
      },
      "execution_count": null,
      "outputs": [
        {
          "output_type": "display_data",
          "data": {
            "text/plain": [
              "<Figure size 600x600 with 1 Axes>"
            ],
            "image/png": "[encoded data removed]"
          },
          "metadata": {}
        }
      ]
    },
    {
      "cell_type": "markdown",
      "source": [
        "#**Penjelasan**\n",
        "\n",
        "- MSE (Mean Squared Error)\n",
        "Mengukur rata - rata kuadrat dari kesalahan prediksi. Semakin rendah MSE, semakin baik modelnya.\n",
        "- RMSE (Root Mean squared Error)\n",
        "memberikan ukuran yang lebih mudah diinterpretasikan karena berada pada satuan yang sama dengan target. RMSE yang lebih rendah menunjukkan model yang lebih baik.\n",
        "- R² (R-Squared)\n",
        "Mengukur proporsi variabilitas dalam data yang dapat dijelaskan oleh model. Nilai R² yang lebih tinggi menunjukkan bahwa model lebih baik dalam menjelaskan variabilitas data.\n",
        "\n",
        "#**Analisis**\n",
        "\n",
        "**1. Strategi Mengatasi Underfitting pada Linear Regression**\n",
        "- **Transformasi Fitur**\\\n",
        "Menggunakan polynomial features atau logarithmic transformations pada fitur input untuk menangkap pola yang lebih rumit. Keuntungannya model dapat lebih baik dalam menangkap hubungan non-linear. Kelemahannya, jika tidak dipilih dengan tepat fitur baru dapat menyebabkan overfitting.\n",
        "- **Penambahan Feature Engineering**\\\n",
        "Menyediakan informasi lebih bagi model untuk menangkap pola yang lebih rumit. Keuntungannya, model menjadi lebih rumit. Kelemahannya, dapat menambah kompleksitas data dan meningkatkan risiko overfitting.\n",
        "\n",
        "\n",
        "**2. Alternatif Loss Function untuk Masalah Regresi**\n",
        "- **MAE (Mean Absolute Error)**\\\n",
        "Mengukur rata-rata selisih absolut antara nilai prediksi dan nilai aktual. Keuntungannya, tidak terpengaruh oleh outliers karena tidak mengkuadratkan error, lebih stabil dan lebih mudah di interpretasikan. Kelemahannya, tidak memperhitungkan besarnya error.\n",
        "- **Huber Loss**\\\n",
        "Untuk error kecil, Huber bertindak seperti MSE, dan untuk error besar, Huber bertindak seperti MAE. Keuntungannya, lebih tahan terhadap outliers dibandingkan MSE. Kelemahannya, menentukan parameter delta bisa sulit.\n",
        "\n",
        "**3. Metode Mengukur Pentingnya Setiap Fitur dalam Model**\n",
        "- **Koefisien Regresi untuk Model Linear**\\\n",
        "Fitur dengan koefisien lebih besar atau lebih kecil, tergantung pada tanda koefisien memiliki pengaruh yang lebih besar terhadap target. Keterbatasannya, tidak dapat menangkap hubungan non-linear dengan baik.\n",
        "- **Feature Importance Berdasarkan Impurity Reduction untuk Model Tree-Based seperti Decision Tree atau Random Forest**\\\n",
        "Fitur ini lebih sering digunakan untuk membagi data. Keterbatasannya, model ini bisa memilih fitur yang lebih \"terpisah\" daripada fitur yang lebih informatif.\n",
        "\n",
        "**4. Desain Eksperimen untuk Memilih Hyperparameter Optimal**\n",
        "- **Grid Search**\\\n",
        "Mencoba berbagai kombinasi hyperparameter dalam grid yang ditentukan sebelumnya dan memilih kombinasi yang memberikan performa terbaik berdasarkan suatu metrik evaluasi. Keuntungannya menjamin bahwa semua kombinasi hyperparameter diuji. Kelemahannya, memakan waktu karena menguji semua kombinasi yang ada.\n",
        "- **Random Search**\\\n",
        "Memilih kombinasi hyperparameter secara acak dari ruang hyperparameter. Keuntungannya, lebih efisien daripada grid search. Kelemahannya, tidak menjamin bahwa kombinasi terbaik akan ditemukan.\n",
        "\n",
        "**5. Langkah Menghadapi Residual Plot Non-Linear dan Heteroskedastisitas**\n",
        "1. **Transformasi Data**\n",
        "- **Log Transformation**\\\n",
        "Jika data tidak linear atau heteroskedastik, transformasikan data dapat mengurangi varians error dan memperbaiki model.\n",
        "- **Square Root**\\\n",
        "Dapat digunakan untuk menangani heteroskedastisitas atau data yang memiliki distribusi yang tidak normal.\n",
        "\n",
        "2. **Menggunakan Model Non-Linear**\n",
        "- **Polynomial Regression**\\\n",
        "Keuntungannya, dapat menangani data dengan hubungan non-linear tanpa memerlukan transformasi data yang kompleks. Kelemahannya, bisa berisiko overfitting jika tidak berhati-hati dengan hyperparameter."
      ],
      "metadata": {
        "id": "bmPKSB3zH8BG"
      }
    }
  ]
}